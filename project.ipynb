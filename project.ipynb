{
 "cells": [
  {
   "cell_type": "markdown",
   "id": "0f929784",
   "metadata": {},
   "source": [
    "1. Databases Creation Using Python"
   ]
  },
  {
   "cell_type": "code",
   "execution_count": 33,
   "id": "2339da81",
   "metadata": {},
   "outputs": [
    {
     "name": "stdout",
     "output_type": "stream",
     "text": [
      "Database created successfully.\n"
     ]
    }
   ],
   "source": [
    "\n",
    "import sqlite3\n",
    "import pandas as pd\n",
    "import pathlib\n",
    "\n",
    "# Define the database file in the current root project directory\n",
    "db_file = pathlib.Path(\"project.sqlite3\")\n",
    "\n",
    "def create_database():\n",
    "    \"\"\"Function to create a database. Connecting for the first time\n",
    "    will create a new database file if it doesn't exist yet.\n",
    "    Close the connection after creating the database\n",
    "    to avoid locking the file.\"\"\"\n",
    "    try:\n",
    "        conn = sqlite3.connect(db_file)\n",
    "        conn.close()\n",
    "        print(\"Database created successfully.\")\n",
    "    except sqlite3.Error as e:\n",
    "        print(\"Error creating the database:\", e)\n",
    "\n",
    "def main():\n",
    "    create_database()\n",
    "\n",
    "if __name__ == \"__main__\":\n",
    "    main()"
   ]
  },
  {
   "cell_type": "markdown",
   "id": "04c2d7be",
   "metadata": {},
   "source": [
    "2. Table Creation"
   ]
  },
  {
   "cell_type": "code",
   "execution_count": 34,
   "id": "8783aa0c",
   "metadata": {},
   "outputs": [
    {
     "name": "stdout",
     "output_type": "stream",
     "text": [
      "Tables created successfully.\n"
     ]
    }
   ],
   "source": [
    "# Start by deleting any tables if they exist already\n",
    "# We want to be able to re-run this script as needed.\n",
    "# DROP tables in reverse order of creation \n",
    "# DROP dependent tables (with foreign keys) first\n",
    "# Makes the script idempotent (rerunnable) using the most current statements each time we run\n",
    "\n",
    "sql_script = \"\"\"\n",
    "DROP TABLE IF EXISTS books;\n",
    "DROP TABLE IF EXISTS authors;\n",
    "\n",
    "CREATE TABLE authors (\n",
    "    author_id TEXT PRIMARY KEY,\n",
    "    first_name TEXT,\n",
    "    last_name TEXT,\n",
    "    year_born INTEGER\n",
    ");\n",
    "\n",
    "CREATE TABLE books (\n",
    "    book_id TEXT PRIMARY KEY,\n",
    "    title TEXT,\n",
    "    year_published INTEGER,\n",
    "    author_id TEXT,\n",
    "    FOREIGN KEY (author_id) REFERENCES authors(author_id)\n",
    ");\n",
    "\"\"\"\n",
    "\n",
    "# Connect to the database and execute the SQL script\n",
    "conn = sqlite3.connect(db_file)\n",
    "cursor = conn.cursor()\n",
    "cursor.executescript(sql_script)\n",
    "conn.commit()\n",
    "conn.close()\n",
    "print(\"Tables created successfully.\")"
   ]
  },
  {
   "cell_type": "markdown",
   "id": "7b71e23a",
   "metadata": {},
   "source": [
    "Creating reusable function to execute a SQL command from a file. Just provide the database and a path to the sql with the command."
   ]
  },
  {
   "cell_type": "code",
   "execution_count": 35,
   "id": "742dc0f6",
   "metadata": {},
   "outputs": [],
   "source": [
    "def create_tables():\n",
    "    \"\"\"Function to read and execute SQL statements to create tables\"\"\"\n",
    "    try:\n",
    "        with sqlite3.connect(db_file) as conn:\n",
    "            sql_file = pathlib.Path(\"sql\", \"create_tables.sql\")\n",
    "            with open(sql_file, \"r\") as file:\n",
    "                sql_script = file.read()\n",
    "            conn.executescript(sql_script)\n",
    "            print(\"Tables created successfully.\")\n",
    "    except sqlite3.Error as e:\n",
    "        print(\"Error creating tables:\", e)"
   ]
  },
  {
   "cell_type": "markdown",
   "id": "32e9a805",
   "metadata": {},
   "source": [
    "Creating a function for each task keeps our code organized. Update the main () function to call this one as well."
   ]
  },
  {
   "cell_type": "code",
   "execution_count": 36,
   "id": "24c576d4",
   "metadata": {},
   "outputs": [],
   "source": [
    "def main():\n",
    "    create_database()\n",
    "    create_tables()"
   ]
  },
  {
   "cell_type": "markdown",
   "id": "c1824110",
   "metadata": {},
   "source": [
    "3a. Creating records with INSERT INTO\n",
    "We can populate our tables in several ways - we'll look at two: (1) Using SQL INSERT INTO statements and (2) populating tables directly from compatible data files.\n",
    "\n",
    "These simple examples use INSERT INTO statements to populate tables. These statements make it easy to create and populate your database when using online SQL tools for practice. Here are some simple examples (using a slightly different author schema):"
   ]
  },
  {
   "cell_type": "code",
   "execution_count": 37,
   "id": "886191a7",
   "metadata": {},
   "outputs": [
    {
     "name": "stdout",
     "output_type": "stream",
     "text": [
      "cursor.lastrowid: 1\n",
      "SELECT last_insert_rowid(): 5\n"
     ]
    }
   ],
   "source": [
    "# ...existing code...\n",
    "import sqlite3\n",
    "db_file = \"project.sqlite3\"\n",
    "\n",
    "with sqlite3.connect(db_file) as conn:\n",
    "    cur = conn.cursor()\n",
    "\n",
    "    # single insert (parameterized)\n",
    "    cur.execute(\n",
    "        \"INSERT INTO authors (author_id, first_name, last_name, year_born) VALUES (?, ?, ?, ?)\",\n",
    "        (\"A1\", \"John\", \"Doe\", 1970)\n",
    "    )\n",
    "    print(\"cursor.lastrowid:\", cur.lastrowid)\n",
    "\n",
    "    # multiple inserts (executemany)\n",
    "    cur.executemany(\n",
    "        \"INSERT INTO authors (author_id, first_name, last_name, year_born) VALUES (?, ?, ?, ?)\",\n",
    "        [\n",
    "            (\"A2\", \"Alice\", \"Smith\", 1980),\n",
    "            (\"A3\", \"Bob\", \"Johnson\", 1990),\n",
    "            (\"A4\", \"Eva\", \"Brown\", 1985)\n",
    "        ]\n",
    "    )\n",
    "\n",
    "    # insert then fetch SQLite's last_insert_rowid() from same connection\n",
    "    cur.execute(\n",
    "        \"INSERT INTO authors (author_id, first_name, last_name, year_born) VALUES (?, ?, ?, ?)\",\n",
    "        (\"A5\", \"Jane\", \"Green\", 1975)\n",
    "    )\n",
    "    cur.execute(\"SELECT last_insert_rowid()\")\n",
    "    print(\"SELECT last_insert_rowid():\", cur.fetchone()[0])\n",
    "\n",
    "    conn.commit()\n",
    "# ...existing code..."
   ]
  },
  {
   "cell_type": "markdown",
   "id": "b332146d",
   "metadata": {},
   "source": [
    "Populating our two project tables \n",
    "sql/insert_records.sql"
   ]
  },
  {
   "cell_type": "code",
   "execution_count": 38,
   "id": "300ef0a5",
   "metadata": {},
   "outputs": [
    {
     "name": "stdout",
     "output_type": "stream",
     "text": [
      "Authors and books inserted successfully.\n"
     ]
    }
   ],
   "source": [
    "# Insert authors and books data using Python and sqlite3\n",
    "\n",
    "sql_insert = \"\"\"\n",
    "INSERT INTO authors (author_id, first_name, last_name, year_born)\n",
    "VALUES\n",
    "    ('10f88232-1ae7-4d88-a6a2-dfcebb22a596', 'Harper', 'Lee', NULL),\n",
    "    ('c3a47e85-2a6b-4196-a7a8-8b55d8fc1f70', 'George', 'Orwell', NULL),\n",
    "    ('e0b75863-866d-4db4-85c7-df9bb8ee6dab', 'F. Scott', 'Fitzgerald', NULL),\n",
    "    ('7b144e32-7ff4-4b58-8eb0-e63d3c9f9b8d', 'Aldous', 'Huxley', NULL),\n",
    "    ('8d8107b6-1f24-481c-8a21-7d72b13b59b5', 'J.D.', 'Salinger', NULL),\n",
    "    ('0cc3c8e4-e0c0-482f-b2f7-af87330de214', 'Ray', 'Bradbury', NULL),\n",
    "    ('4dca0632-2c53-490c-99d5-4f6d41e56c0e', 'Jane', 'Austen', NULL),\n",
    "    ('16f3e0a1-24cb-4ed6-a50d-509f63e367f7', 'J.R.R.', 'Tolkien', NULL),\n",
    "    ('06cf58ab-90f1-448d-8e54-055e4393e75c', 'J.R.R.', 'Tolkien', NULL),\n",
    "    ('6b693b96-394a-4a1d-a4e2-792a47d7a568', 'J.K.', 'Rowling', NULL);\n",
    "\n",
    "INSERT INTO books (book_id, title, year_published, author_id)\n",
    "VALUES\n",
    "    ('d6f83870-ff21-4a5d-90ab-26a49ab6ed12', 'To Kill a Mockingbird', 1960, '10f88232-1ae7-4d88-a6a2-dfcebb22a596'),\n",
    "    ('0f5f44f7-44d8-4f49-b8c4-c64d847587d3', '1984', 1949, 'c3a47e85-2a6b-4196-a7a8-8b55d8fc1f70'),\n",
    "    ('f9d9e7de-c44d-4d1d-b3ab-59343bf32bc2', 'The Great Gatsby', 1925, 'e0b75863-866d-4db4-85c7-df9bb8ee6dab'),\n",
    "    ('38e530f1-228f-4d6e-a587-2ed4d6c44e9c', 'Brave New World', 1932, '7b144e32-7ff4-4b58-8eb0-e63d3c9f9b8d'),\n",
    "    ('c2a62a4b-cf5c-4246-9bf7-b2601d542e6d', 'The Catcher in the Rye', 1951, '8d8107b6-1f24-481c-8a21-7d72b13b59b5'),\n",
    "    ('3a1d835c-1e15-4a48-8e8c-b12239604e98', 'Fahrenheit 451', 1953, '0cc3c8e4-e0c0-482f-b2f7-af87330de214'),\n",
    "    ('c6e67918-e509-4a6b-bc3a-979f6ad802f0', 'Pride and Prejudice', 1813, '4dca0632-2c53-490c-99d5-4f6d41e56c0e'),\n",
    "    ('be951205-6cc2-4b3d-96f1-7257b8fc8c0f', 'The Hobbit', 1937, '16f3e0a1-24cb-4ed6-a50d-509f63e367f7');\n",
    "\"\"\"\n",
    "\n",
    "# Create a new connection and cursor for this operation\n",
    "with sqlite3.connect(db_file) as conn:\n",
    "    cursor = conn.cursor()\n",
    "    cursor.executescript(sql_insert)\n",
    "    conn.commit()\n",
    "    print(\"Authors and books inserted successfully.\")\n"
   ]
  },
  {
   "cell_type": "markdown",
   "id": "0d3b9525",
   "metadata": {},
   "source": [
    "3b. Creating Records from Data Files\n",
    "Populating tables right from data at rest (static data files, e.g., csv files) is also very common. For this project, we have our csv files in the data folder. We can write a function to populate them right from the CSV using pandas.  Note that the data must be compatible with our table structure for the direct import to work. Typically, there will be much more data cleaning and munging required to go from one system's Excel or csv files into a centralized relational database system. Optional/aside: For modern data storage formats, look up data warehouses, data lakes, and data lakehouses. "
   ]
  },
  {
   "cell_type": "code",
   "execution_count": 39,
   "id": "e60a1b45",
   "metadata": {},
   "outputs": [],
   "source": [
    "def insert_data_from_csv():\n",
    "    \"\"\"Function to use pandas to read data from CSV files (in 'data' folder)\n",
    "    and insert the records into their respective tables.\"\"\"\n",
    "    try:\n",
    "        author_data_path = pathlib.Path(\"data\", \"authors.csv\")\n",
    "        book_data_path = pathlib.Path(\"data\", \"books.csv\")\n",
    "        authors_df = pd.read_csv(author_data_path)\n",
    "        books_df = pd.read_csv(book_data_path)\n",
    "        with sqlite3.connect(db_file) as conn:\n",
    "            # use the pandas DataFrame to_sql() method to insert data\n",
    "            # pass in the table name and the connection\n",
    "            authors_df.to_sql(\"authors\", conn, if_exists=\"replace\", index=False)\n",
    "            books_df.to_sql(\"books\", conn, if_exists=\"replace\", index=False)\n",
    "            print(\"Data inserted successfully.\")\n",
    "    except (sqlite3.Error, pd.errors.EmptyDataError, FileNotFoundError) as e:\n",
    "        print(\"Error inserting data:\", e)"
   ]
  },
  {
   "cell_type": "markdown",
   "id": "49b5848f",
   "metadata": {},
   "source": [
    "After adding your function to either insert records from csv or insert records by running a sql script, update your main() function to call your new function that inserts records. For example:"
   ]
  },
  {
   "cell_type": "code",
   "execution_count": 40,
   "id": "e790e996",
   "metadata": {},
   "outputs": [],
   "source": [
    "def main():\n",
    "    create_database()\n",
    "    create_tables()\n",
    "    insert_data_from_csv()"
   ]
  },
  {
   "cell_type": "markdown",
   "id": "d33a9652",
   "metadata": {},
   "source": [
    "4. Reading Records with SQL SELECT\n",
    "   SQL makes it easy to retrieve information from tables as well. Understand how to use SELECT queries to get different pieces of information, like listing all movies of a certain genre."
   ]
  },
  {
   "cell_type": "code",
   "execution_count": null,
   "id": "7ad8c660",
   "metadata": {},
   "outputs": [],
   "source": []
  }
 ],
 "metadata": {
  "kernelspec": {
   "display_name": "Python 3",
   "language": "python",
   "name": "python3"
  },
  "language_info": {
   "codemirror_mode": {
    "name": "ipython",
    "version": 3
   },
   "file_extension": ".py",
   "mimetype": "text/x-python",
   "name": "python",
   "nbconvert_exporter": "python",
   "pygments_lexer": "ipython3",
   "version": "3.11.1"
  }
 },
 "nbformat": 4,
 "nbformat_minor": 5
}
